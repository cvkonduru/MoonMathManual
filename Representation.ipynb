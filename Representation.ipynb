{
 "cells": [
  {
   "cell_type": "code",
   "execution_count": 1,
   "id": "14686287-61b3-48b7-a0e4-bb702ed3518c",
   "metadata": {},
   "outputs": [
    {
     "data": {
      "text/plain": [
       "Integer Ring"
      ]
     },
     "execution_count": 1,
     "metadata": {},
     "output_type": "execute_result"
    }
   ],
   "source": [
    "ZZ # Sage Notation for the set of integers"
   ]
  },
  {
   "cell_type": "code",
   "execution_count": 2,
   "id": "31c709dd-67b5-4f4c-bb1c-95a1ecd41f29",
   "metadata": {},
   "outputs": [
    {
     "data": {
      "text/plain": [
       "Non negative integer semiring"
      ]
     },
     "execution_count": 2,
     "metadata": {},
     "output_type": "execute_result"
    }
   ],
   "source": [
    "NN # Sage Notation for the set of natural numbers"
   ]
  },
  {
   "cell_type": "code",
   "execution_count": 3,
   "id": "d58f51b4-eca6-4053-a0fc-239e05b714e2",
   "metadata": {},
   "outputs": [
    {
     "data": {
      "text/plain": [
       "Rational Field"
      ]
     },
     "execution_count": 3,
     "metadata": {},
     "output_type": "execute_result"
    }
   ],
   "source": [
    "QQ # Sage Notation for the set of rational numbers"
   ]
  },
  {
   "cell_type": "code",
   "execution_count": 4,
   "id": "40dea0cd-23b3-4e12-8d7f-5ecf20d4b71a",
   "metadata": {},
   "outputs": [
    {
     "data": {
      "text/plain": [
       "5"
      ]
     },
     "execution_count": 4,
     "metadata": {},
     "output_type": "execute_result"
    }
   ],
   "source": [
    "ZZ(5) # Get an element from the set of integers"
   ]
  },
  {
   "cell_type": "code",
   "execution_count": 5,
   "id": "11ce3c02-e08f-42ef-8d35-f85fc564a072",
   "metadata": {},
   "outputs": [
    {
     "data": {
      "text/plain": [
       "8"
      ]
     },
     "execution_count": 5,
     "metadata": {},
     "output_type": "execute_result"
    }
   ],
   "source": [
    "ZZ(5) + ZZ(3) # Addition of two integers"
   ]
  },
  {
   "cell_type": "code",
   "execution_count": 7,
   "id": "80e9686e-dfdb-4c69-ab11-6c23bce10ac1",
   "metadata": {},
   "outputs": [
    {
     "data": {
      "text/plain": [
       "15"
      ]
     },
     "execution_count": 7,
     "metadata": {},
     "output_type": "execute_result"
    }
   ],
   "source": [
    "ZZ(5) * ZZ(3) # Multiplication of two integers"
   ]
  },
  {
   "cell_type": "code",
   "execution_count": 10,
   "id": "b13eeabe-053e-4fe4-b0fc-ac14678f5cf5",
   "metadata": {},
   "outputs": [
    {
     "data": {
      "text/plain": [
       "755768"
      ]
     },
     "execution_count": 10,
     "metadata": {},
     "output_type": "execute_result"
    }
   ],
   "source": [
    "ZZ.random_element(10 ** 6) # Get a random integer"
   ]
  }
 ],
 "metadata": {
  "kernelspec": {
   "display_name": "SageMath 10.4",
   "language": "sage",
   "name": "sagemath-10.4"
  },
  "language_info": {
   "codemirror_mode": {
    "name": "ipython",
    "version": 3
   },
   "file_extension": ".py",
   "mimetype": "text/x-python",
   "name": "python",
   "nbconvert_exporter": "python",
   "pygments_lexer": "ipython3",
   "version": "3.12.4"
  }
 },
 "nbformat": 4,
 "nbformat_minor": 5
}
