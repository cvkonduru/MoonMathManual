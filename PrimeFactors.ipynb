{
 "cells": [
  {
   "cell_type": "code",
   "execution_count": 1,
   "id": "f670e477-8ce8-48b5-a1f0-e7bca1776751",
   "metadata": {},
   "outputs": [],
   "source": [
    "n = NN(504) # a natural number n, from set of natural numbers NN. Here took 504 as an example"
   ]
  },
  {
   "cell_type": "code",
   "execution_count": 2,
   "id": "d164a94c-5c28-4559-8b4b-a6558deb46f6",
   "metadata": {},
   "outputs": [
    {
     "data": {
      "text/plain": [
       "2^3 * 3^2 * 7"
      ]
     },
     "execution_count": 2,
     "metadata": {},
     "output_type": "execute_result"
    }
   ],
   "source": [
    "factor(n) # Inbuilt function in sage math factor returns the prime factors representation of a given natural number."
   ]
  },
  {
   "cell_type": "code",
   "execution_count": 3,
   "id": "6199aeb4-6e82-447b-89e3-4d3e4efa3a08",
   "metadata": {},
   "outputs": [],
   "source": [
    "n = NN(321)"
   ]
  },
  {
   "cell_type": "code",
   "execution_count": 4,
   "id": "6c844685-f185-4d8a-99fd-2db8dfc2017d",
   "metadata": {},
   "outputs": [
    {
     "data": {
      "text/plain": [
       "3 * 107"
      ]
     },
     "execution_count": 4,
     "metadata": {},
     "output_type": "execute_result"
    }
   ],
   "source": [
    "factor(n)"
   ]
  },
  {
   "cell_type": "code",
   "execution_count": null,
   "id": "b7b1ae20-3ddf-4275-9f54-518c9553f194",
   "metadata": {},
   "outputs": [],
   "source": []
  }
 ],
 "metadata": {
  "kernelspec": {
   "display_name": "SageMath 10.4",
   "language": "sage",
   "name": "sagemath-10.4"
  },
  "language_info": {
   "codemirror_mode": {
    "name": "ipython",
    "version": 3
   },
   "file_extension": ".py",
   "mimetype": "text/x-python",
   "name": "python",
   "nbconvert_exporter": "python",
   "pygments_lexer": "ipython3",
   "version": "3.12.4"
  }
 },
 "nbformat": 4,
 "nbformat_minor": 5
}
